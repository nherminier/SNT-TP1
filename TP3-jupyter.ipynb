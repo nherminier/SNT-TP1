{
 "cells": [
  {
   "cell_type": "markdown",
   "metadata": {},
   "source": [
    "# TP3 : Traitement d’une image avec Python\n",
    "\n",
    "## Objectif : Comment manipuler les pixels d’une image ?"
   ]
  },
  {
   "cell_type": "markdown",
   "metadata": {},
   "source": [
    "**Document 1: Coordonnés d’un pixel**\n",
    "\n",
    "Chaque pixel est accessible grâce à ses coordonnées (x,y).\n",
    "Attention au choix imposé du repère !\n",
    "Le pixel de coordonnées (0,0) se trouve en haut à gauche de\n",
    "l'image.\n",
    "<img src=\"quadrillage.jpg\">"
   ]
  },
  {
   "cell_type": "code",
   "execution_count": null,
   "metadata": {},
   "outputs": [],
   "source": [
    "#Ceci est du code. Pour l'exécuter appuyer sur l'icône juste au-dessus \"Exécuter\".\n",
    "from PIL import Image\n",
    "img=Image.open(\"pomme.jpg\")\n",
    "largeur,hauteur=img.size\n",
    "print(largeur,hauteur)"
   ]
  },
  {
   "cell_type": "markdown",
   "metadata": {},
   "source": [
    "**Voici une analyse ligne par ligne du programme ci-dessus :**\n",
    "- from PIL import Image : on importe une partie de la bibliothèque PIL de Python appelée Image pour accéder à de nouvelles fonctions.\n",
    "- img=Image.open(\"pomme.jpg\") : On enregistre l’image « pomme.jpg » dans la variable img.\n",
    "- largeur,hauteur=img.size : On enregistre le nombre de pixels dans les variables hauteur et largeur.\n",
    "- print(largeur,hauteur) : On affiche les valeurs et donc la définition de l’image en pixels."
   ]
  },
  {
   "cell_type": "markdown",
   "metadata": {},
   "source": [
    "**Document 2 : Pour récupérer la couleur d'un pixel**\n",
    "\n",
    "On accède aux codages des pixels via la fonction **getpixel((x,y))** qui renvoie un tableau indexé par des couples\n",
    "d’entiers. x correspond à la valeur de la ligne et y à celui de la colonne."
   ]
  },
  {
   "cell_type": "code",
   "execution_count": null,
   "metadata": {},
   "outputs": [],
   "source": [
    "#Ceci est du code. Pour l'exécuter appuyer sur l'icône juste au-dessus \"Exécuter\".\n",
    "from PIL import Image \n",
    "img=Image.open(\"pomme.jpg\")\n",
    "r,v,b=img.getpixel((0,0))\n",
    "print(\"canal rouge:\",r,\"canal vert:=\",v,\"canal bleu:\",b)"
   ]
  },
  {
   "cell_type": "markdown",
   "metadata": {},
   "source": [
    "**Quelques commentaires sur ce programme :**\n",
    "- r,v,b=img.getpixel((0,0)) : On enregistre dans les variables r, v et b les valeurs respectives R,V,B du pixel situé en case (0,0).\n",
    "- print(\"canal rouge:\",r,\"canal vert:=\",v,\"canal bleu:\",b) : on affiche les valeurs de r , v et b."
   ]
  },
  {
   "cell_type": "markdown",
   "metadata": {},
   "source": [
    "**A faire vous même 1:** Modifier le programme ci-dessus afin d’accéder au codage du pixel de coordonnées (160,250).\n",
    "\n",
    "Exécuter-le et noter les valeurs. Les valeurs R,V,B sont-elles cohérentes avec la couleur réelle du pixel sur l'image?\n",
    "\n",
    "*Vous pouvez réutiliser le lien suivant pour tester les valeurs R,V et B et voir la couleur obtenue:* http://www.proftnj.com/RGB3.htm "
   ]
  },
  {
   "cell_type": "markdown",
   "metadata": {},
   "source": [
    "**Document 3 : Pour modifier la couleur d'un pixel**\n",
    "\n",
    "Pour modifier un pixel, on change sa valeur dans le tableau des pixels en utilisant la fonction **putpixel((x,y),p)** : on affecte la valeur p au pixel de coordonnées (x,y)."
   ]
  },
  {
   "cell_type": "code",
   "execution_count": null,
   "metadata": {},
   "outputs": [],
   "source": [
    "from PIL import Image\n",
    "img=Image.open(\"pomme.jpg\")\n",
    "img.putpixel((0,0),(255,0,0))\n",
    "display(img)"
   ]
  },
  {
   "cell_type": "markdown",
   "metadata": {},
   "source": [
    "**Quelques commentaires sur ce programme :**\n",
    "- \"img.putpixel((0,0),(255,0,0))\" permet de colorier le pixel de coordonnées (0,0) en rouge (255,0,0). \n",
    "\n",
    "-  \"img.show()\" permet d'afficher l'image modifiée.\n",
    "\n",
    "*Vous devriez voir en haut à gauche un minuscule point rouge.*"
   ]
  },
  {
   "cell_type": "markdown",
   "metadata": {},
   "source": [
    "**A faire vous même 2:**\n",
    "Modifiez le programme ci-dessus afin de colorier le pixel de coordonnées (160,250) en bleu. Exécuter-le.\n",
    "\n",
    "*→ Attention, adapter le texte dans le cas du yoda.\n",
    "Ne pas hésiter à agrandir la fenêtre pour apercevoir le point bleu ! (juste en-dessous du reflet pour la pomme\n",
    "et dans la cape blanche à droite au-dessus du laser pour yoda)*\n"
   ]
  },
  {
   "cell_type": "markdown",
   "metadata": {},
   "source": [
    "**Document 4 : Pour modifier la couleur de plusieurs pixels**\n",
    "\n",
    "Modifiez un pixel c'est déjà bien, mais comment faire pour modifier plusieurs pixels ?\n",
    "Il suffit d’utiliser des boucles \"for\". En effet, grâce à ces boucles nous pouvons balayer\n",
    "toute l'image et ne plus nous contenter de modifier les pixels un par un.\n",
    "\n",
    "*Pour bien comprendre comment parcourir tous les pixels d’une image (double boucle), cliquer sur ce lien :*\n",
    "https://www.isnbreizh.fr/snt/activity/image/forimage2.html"
   ]
  },
  {
   "cell_type": "markdown",
   "metadata": {},
   "source": [
    "**Document 5: Programme**"
   ]
  },
  {
   "cell_type": "code",
   "execution_count": null,
   "metadata": {},
   "outputs": [],
   "source": [
    "from PIL import Image\n",
    "##-----Ouverture de l'image et dimensions de l'image-------##\n",
    "img = Image.open(\"pomme.jpg\")\n",
    "largeur=500\n",
    "hauteur=500\n",
    "\n",
    "##-----Algorithme de .....................-----##\n",
    "for y in range(hauteur):\n",
    "    for x in range(largeur):\n",
    "        r,v,b=img.getpixel((x,y))\n",
    "        n_r=b\n",
    "        n_v=r\n",
    "        n_b=v\n",
    "        img.putpixel((x,y),(n_r,n_v,n_b))\n",
    "\n",
    "##-----On affiche la nouvelle image-----##\n",
    "#img.show()\n",
    "display(img)"
   ]
  },
  {
   "cell_type": "markdown",
   "metadata": {},
   "source": [
    "**A faire vous même 3:**\n",
    "\n",
    "Exécuter le programme ci-dessus. Que fait ce programme ?"
   ]
  },
  {
   "cell_type": "markdown",
   "metadata": {},
   "source": [
    "<img src=\"andywarhol.jpg\" width=\"200\" height=\"200\" align=\"left\"  style=\"margin-right: 20px\">\n",
    "\n",
    "\n",
    "**Quelques commentaires sur ce programme :**\n",
    "- Nous commençons par définir les variables \"largeur\" et \"hauteur\" (\"largeur=500\" et \"hauteur=500\" car\n",
    "l’image \"pomme.jpg\" fait 500 pixels de large et 500 pixels de haut – à adapter pour \"yoda.jpg\").\n",
    "- Les 2 boucles \"for\" nous permettent de parcourir l'ensemble des pixels de l'image."
   ]
  },
  {
   "cell_type": "markdown",
   "metadata": {},
   "source": [
    "**A faire vous même 4:**\n",
    "\n",
    "Modifier le programme ci-dessus, afin que cette fois-ci, il inverse les valeurs des canaux bleu et rouge sans changer la valeur du canal vert."
   ]
  },
  {
   "cell_type": "markdown",
   "metadata": {},
   "source": [
    "\n",
    "<img src=\"niveaugris.jpg\" width=\"200\" height=\"200\" align=\"right\"  style=\"margin-left: 20px\"> \n",
    "\n",
    "\n",
    "**Document 7:**\n",
    "\n",
    "Le « niveau de gris » d’une image est obtenue en effectuant la moyenne valeurs\n",
    "des 3 couleurs et en affectant cette valeur à chacune des couleurs.\n",
    "La fonction // effectue la division euclidienne en langage Python.\n",
    "\n",
    "\n",
    "**A faire vous même 5:**\n",
    "Modifier à nouveau le programme ci-dessus avec la formule de la moyenne que vous avez choisie (A ou B ou C). Puis exécuter-le et vérifier que l'image apparait bien en niveau de gris."
   ]
  },
  {
   "cell_type": "markdown",
   "metadata": {},
   "source": [
    "**Document 8 : Seulement 8 couleurs !**\n",
    "\n",
    "Pour diminuer la taille d’une image, une des techniques est de diminuer le nombre de couleurs présentes dans\n",
    "une image. Pour limiter une image à quelques couleurs, il suffit de limiter le nombres de valeurs possibles pour\n",
    "les trois canaux R, V et B."
   ]
  },
  {
   "cell_type": "markdown",
   "metadata": {},
   "source": [
    "**A faire vous même 6:**\n",
    "\n",
    "On souhaite que l’image ne contienne que 8 couleurs différentes. Combien de valeurs devrons nous autoriser\n",
    "pour chaque canal ?\n",
    "\n",
    "\n",
    "Compléter le programme Python ci-dessous pour que l’image ne contienne plus que 8 couleurs :"
   ]
  },
  {
   "cell_type": "code",
   "execution_count": null,
   "metadata": {},
   "outputs": [],
   "source": [
    "from PIL import Image\n",
    "img=Image.open(\"pomme.jpg\")\n",
    "largeur=500\n",
    "hauteur=500\n",
    "for y in range(hauteur):\n",
    "    for x in range(largeur):\n",
    "        r,v,b=img.getpixel((x,y))     ## r signifie rouge, v signifie vert et b signifie bleu##\n",
    "       \n",
    "        if r<=123:\n",
    "            r=0\n",
    "        else:\n",
    "            r=255\n",
    "## partie ci-dessous à compléter avant d'executer le programme ##             \n",
    "        if v<=123:\n",
    "            v=   \n",
    "        else:\n",
    "            v=\n",
    "        if b<=  :\n",
    "            b=\n",
    "        else:\n",
    "            b=\n",
    "        img.putpixel((x,y),(r,v,b))    \n",
    "##-----On affiche la nouvelle image-----##\n",
    "#img.show() \n",
    "display(img)"
   ]
  },
  {
   "cell_type": "markdown",
   "metadata": {},
   "source": [
    "**Document 9 : Noir et blanc**\n",
    "\n",
    "Pour obtenir une image en noir et blanc, il faut que chaque pixel soit noir ou blanc. Dans ce but et pour\n",
    "chaque pixel, on prend la moyenne des 3 couleurs et, pour savoir s’il faut le transformer en blanc ou en\n",
    "noir, on regarde lequel des nombres 0 et 255 est le plus proche de cette moyenne.\n",
    "\n",
    "**A faire vous même 7**\n",
    "Compléter l’algorithme ci-dessous pour qu’il permette de transformer le pixel en noir ou en\n",
    "blanc :"
   ]
  },
  {
   "cell_type": "code",
   "execution_count": null,
   "metadata": {},
   "outputs": [],
   "source": [
    "from PIL import Image\n",
    "img=Image.open(\"pomme.jpg\")\n",
    "largeur=500\n",
    "hauteur=500\n",
    "for y in range(hauteur):\n",
    "    for x in range(largeur):\n",
    "        r,v,b=img.getpixel((x,y))\n",
    "## partie ci-dessous à compléter avant d'executer le programme ##         \n",
    "        moyenne = \n",
    "        if moyenne <=     :\n",
    "            (r, v, b) = ( , , )\n",
    "        else:\n",
    "            (r, v, b) = ( , , )\n",
    "        img.putpixel((x,y),(r,v,b))\n",
    "##-----On affiche la nouvelle image-----##\n",
    "#img.show() \n",
    "display(img)"
   ]
  },
  {
   "cell_type": "markdown",
   "metadata": {},
   "source": [
    "<img src=\"secretword.jpg\" width=\"200\" height=\"200\" align=\"left\"  style=\"margin-right: 20px\"> \n",
    "\n",
    "**Document 10 : Le Mot Secret !**\n",
    "\n",
    "Executer le programme ci-dessous.\n",
    "\n",
    "Quelle image obtient-on ? \n"
   ]
  },
  {
   "cell_type": "code",
   "execution_count": null,
   "metadata": {},
   "outputs": [],
   "source": [
    "def pixel(rouge, vert, bleu):\n",
    "#Début de la zone modifiable\n",
    "\n",
    "#Fin de la zone modifiable\n",
    "    return (rouge, vert, bleu)\n",
    "\n",
    "from PIL import Image\n",
    "img = Image.open(\"secret.png\")\n",
    "(L, l) = img.size\n",
    "for x in range(L):\n",
    "    for y in range(l):\n",
    "        (r, v, b) = img.getpixel((x, y))\n",
    "        (new_r, new_v, new_b) = pixel(r, v, b)\n",
    "        img.putpixel((x, y), (new_r, new_v, new_b))\n",
    "\n",
    "#img.show()\n",
    "display(img)"
   ]
  },
  {
   "cell_type": "markdown",
   "metadata": {},
   "source": [
    "L’image cache un mot secret qui a été écrit en utilisant les valeurs suivantes pour les couleurs :\n",
    "rouge = 255, vert = 255 et bleu = 254 .\n",
    "Ce mot a été écrit sur un fond totalement blanc : rouge =255, vert = 255 et bleu = 255.\n",
    "\n",
    "**A faire vous même 8:**\n",
    "Proposer un algorithme permettant de changer la couleur des pixels du mot secret en noir.\n",
    "Puis, dans la zone « modifiable » du programme ci-dessus, écrire le code Python qui correspond à cet algorithme.\n",
    "\n",
    "**Exécuter et vérifier le résultat. Vous devriez voir apparaître un mot secret!!!**"
   ]
  }
 ],
 "metadata": {
  "kernelspec": {
   "display_name": "Python 3",
   "language": "python",
   "name": "python3"
  },
  "language_info": {
   "codemirror_mode": {
    "name": "ipython",
    "version": 3
   },
   "file_extension": ".py",
   "mimetype": "text/x-python",
   "name": "python",
   "nbconvert_exporter": "python",
   "pygments_lexer": "ipython3",
   "version": "3.7.6"
  }
 },
 "nbformat": 4,
 "nbformat_minor": 4
}
